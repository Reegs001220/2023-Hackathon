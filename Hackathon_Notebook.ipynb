{
 "cells": [
  {
   "cell_type": "code",
   "execution_count": 7,
   "metadata": {},
   "outputs": [],
   "source": [
    "import numpy as np\n",
    "import pandas as pd\n",
    "import matplotlib.pyplot as plt\n",
    "import pandas as pd\n",
    "from sklearn.model_selection import train_test_split\n",
    "from sklearn.feature_extraction.text import TfidfVectorizer\n",
    "from sklearn.svm import SVC\n",
    "from sklearn.metrics import classification_report, f1_score\n",
    "from sklearn.preprocessing import LabelEncoder\n"
   ]
  },
  {
   "cell_type": "code",
   "execution_count": 8,
   "metadata": {},
   "outputs": [],
   "source": [
    "train_df = pd.read_csv('train_set.csv')\n",
    "test_df = pd.read_csv('test_set.csv')"
   ]
  },
  {
   "cell_type": "code",
   "execution_count": null,
   "metadata": {},
   "outputs": [],
   "source": [
    "train_df.head()"
   ]
  },
  {
   "cell_type": "code",
   "execution_count": null,
   "metadata": {},
   "outputs": [],
   "source": [
    "# Get the count of each language\n",
    "language_counts = train_df['lang_id'].value_counts()\n",
    "\n",
    "# Display the counts\n",
    "print(language_counts)"
   ]
  },
  {
   "cell_type": "markdown",
   "metadata": {},
   "source": []
  },
  {
   "cell_type": "code",
   "execution_count": 9,
   "metadata": {},
   "outputs": [],
   "source": [
    "#Lowercasing\n",
    "train_df['text'] = train_df['text'].str.lower()\n",
    "test_df['text'] = test_df['text'].str.lower()\n",
    "\n",
    "# Removing Punctuation\n",
    "train_df['text'] = train_df['text'].str.replace('[^\\w\\s]', '')\n",
    "test_df['text'] = test_df['text'].str.replace('[^\\w\\s]', '')\n",
    "\n",
    "# Removing Numbers\n",
    "train_df['text'] = train_df['text'].str.replace('\\d+', '')\n",
    "test_df['text'] = test_df['text'].str.replace('\\d+', '')\n"
   ]
  },
  {
   "cell_type": "code",
   "execution_count": null,
   "metadata": {},
   "outputs": [],
   "source": [
    "# Split the data into training and validation sets\n",
    "X_train, X_val, y_train, y_val = train_test_split(train_df['text'], train_df['lang_id'], test_size=0.2, random_state=42)\n",
    "\n",
    "# Initialize and train the SVM model\n",
    "tfidf_vectorizer = TfidfVectorizer(ngram_range=(1, 2))\n",
    "X_train_tfidf = tfidf_vectorizer.fit_transform(X_train)\n",
    "X_val_tfidf = tfidf_vectorizer.transform(X_val)\n",
    "\n",
    "svm_model = SVC(kernel='linear', C=1)\n",
    "svm_model.fit(X_train_tfidf, y_train)\n",
    "\n",
    "# Make predictions on the validation set\n",
    "y_pred = svm_model.predict(X_val_tfidf)\n",
    "\n",
    "# Evaluate the model\n",
    "print(\"Classification Report:\")\n",
    "print(classification_report(y_val, y_pred))\n",
    "print(\"Mean F1-Score:\", f1_score(y_val, y_pred, average='micro'))\n"
   ]
  },
  {
   "cell_type": "code",
   "execution_count": 10,
   "metadata": {},
   "outputs": [
    {
     "name": "stdout",
     "output_type": "stream",
     "text": [
      "Naive Bayes Classification Report:\n",
      "              precision    recall  f1-score   support\n",
      "\n",
      "         afr       1.00      1.00      1.00       583\n",
      "         eng       0.99      1.00      1.00       615\n",
      "         nbl       0.99      0.99      0.99       583\n",
      "         nso       1.00      1.00      1.00       625\n",
      "         sot       1.00      1.00      1.00       618\n",
      "         ssw       1.00      1.00      1.00       584\n",
      "         tsn       1.00      1.00      1.00       598\n",
      "         tso       1.00      1.00      1.00       561\n",
      "         ven       1.00      1.00      1.00       634\n",
      "         xho       1.00      1.00      1.00       609\n",
      "         zul       1.00      0.99      0.99       590\n",
      "\n",
      "    accuracy                           1.00      6600\n",
      "   macro avg       1.00      1.00      1.00      6600\n",
      "weighted avg       1.00      1.00      1.00      6600\n",
      "\n",
      "Mean F1-Score (Naive Bayes): 0.9977272727272727\n"
     ]
    }
   ],
   "source": [
    "from sklearn.naive_bayes import MultinomialNB\n",
    "# Split the data into training and validation sets\n",
    "X_train, X_val, y_train, y_val = train_test_split(X, y, test_size=0.2, random_state=42)\n",
    "\n",
    "# Initialize the TF-IDF vectorizer for unigrams and bigrams\n",
    "tfidf_vectorizer = TfidfVectorizer(ngram_range=(1, 2))\n",
    "\n",
    "# Fit and transform the TF-IDF vectorizer on the training set\n",
    "X_train_tfidf = tfidf_vectorizer.fit_transform(X_train)\n",
    "\n",
    "# Transform the validation set using the same TF-IDF vectorizer\n",
    "X_val_tfidf = tfidf_vectorizer.transform(X_val)\n",
    "\n",
    "# Initialize and train the Multinomial Naive Bayes model\n",
    "nb_model = MultinomialNB()\n",
    "nb_model.fit(X_train_tfidf, y_train)\n",
    "\n",
    "# Make predictions on the validation set\n",
    "y_pred_nb = nb_model.predict(X_val_tfidf)\n",
    "\n",
    "# Evaluate the model\n",
    "print(\"Naive Bayes Classification Report:\")\n",
    "print(classification_report(y_val, y_pred_nb))\n",
    "print(\"Mean F1-Score (Naive Bayes):\", f1_score(y_val, y_pred_nb, average='micro'))"
   ]
  },
  {
   "cell_type": "code",
   "execution_count": null,
   "metadata": {},
   "outputs": [],
   "source": [
    "from sklearn.naive_bayes import MultinomialNB\n",
    "from sklearn.model_selection import GridSearchCV\n",
    "\n",
    "# Get the unique classes from the training set\n",
    "unique_classes = y_train.unique()\n",
    "\n",
    "# Define a range of hyperparameters to search\n",
    "param_grid = {\n",
    "    'alpha': [0.1, 0.5, 1.0, 1.5, 2.0],\n",
    "    'fit_prior': [True, False],\n",
    "    'class_prior': [None] + [1/len(unique_classes)] * len(unique_classes),  # Default and uniform class priors\n",
    "}\n",
    "\n",
    "# Initialize the Multinomial Naive Bayes model\n",
    "nb_model = MultinomialNB()\n",
    "\n",
    "# Initialize GridSearchCV\n",
    "grid_search = GridSearchCV(nb_model, param_grid, cv=5, scoring='f1_macro', n_jobs=-1)\n",
    "\n",
    "# Fit the model to the training data\n",
    "grid_search.fit(X_train_tfidf, y_train)\n",
    "\n",
    "# Print the best hyperparameters\n",
    "print(\"Best Hyperparameters:\", grid_search.best_params_)\n",
    "\n",
    "# Make predictions on the validation set using the best model\n",
    "y_pred_nb = grid_search.best_estimator_.predict(X_val_tfidf)\n",
    "\n",
    "# Evaluate the model\n",
    "print(\"Naive Bayes Classification Report:\")\n",
    "print(classification_report(y_val, y_pred_nb))\n",
    "print(\"Mean F1-Score (Naive Bayes):\", f1_score(y_val, y_pred_nb, average='macro'))\n"
   ]
  },
  {
   "cell_type": "code",
   "execution_count": null,
   "metadata": {},
   "outputs": [],
   "source": [
    "from sklearn.ensemble import RandomForestClassifier\n",
    "\n",
    "# Initialize and train the Random Forest model\n",
    "rf_model = RandomForestClassifier(n_estimators=100, random_state=42)\n",
    "rf_model.fit(X_train_tfidf, y_train)\n",
    "\n",
    "# Make predictions on the validation set\n",
    "y_pred_rf = rf_model.predict(X_val_tfidf)\n",
    "\n",
    "# Evaluate the model\n",
    "print(\"Random Forest Classification Report:\")\n",
    "print(classification_report(y_val, y_pred_rf))\n",
    "print(\"Mean F1-Score (Random Forest):\", f1_score(y_val, y_pred_rf, average='micro'))\n"
   ]
  },
  {
   "cell_type": "code",
   "execution_count": null,
   "metadata": {},
   "outputs": [],
   "source": [
    "from sklearn.linear_model import LogisticRegression\n",
    "\n",
    "# Initialize and train the Logistic Regression model\n",
    "lr_model = LogisticRegression(max_iter=100, random_state=42, multi_class='ovr')\n",
    "lr_model.fit(X_train_tfidf, y_train)\n",
    "\n",
    "# Make predictions on the validation set\n",
    "y_pred_lr = lr_model.predict(X_val_tfidf)\n",
    "\n",
    "# Evaluate the model\n",
    "print(\"Logistic Regression Classification Report:\")\n",
    "print(classification_report(y_val, y_pred_lr))\n",
    "print(\"Mean F1-Score (Logistic Regression):\", f1_score(y_val, y_pred_lr, average='macro'))\n"
   ]
  },
  {
   "cell_type": "code",
   "execution_count": null,
   "metadata": {},
   "outputs": [],
   "source": [
    "# Transform the test set using the same TF-IDF vectorizer\n",
    "X_test_tfidf = tfidf_vectorizer.transform(test_df['text'])\n",
    "\n",
    "# Make predictions on the test set\n",
    "test_predictions = svm_model.predict(X_test_tfidf)\n",
    "\n",
    "# Create a submission DataFrame\n",
    "submission_df = pd.DataFrame({'index': test_df['index'], 'lang_id': test_predictions})\n",
    "\n",
    "# Save the submission file\n",
    "submission_df.to_csv('submission_svm.csv', index=False)"
   ]
  },
  {
   "cell_type": "code",
   "execution_count": 11,
   "metadata": {},
   "outputs": [],
   "source": [
    "# Assuming you have the 'text' column in your test DataFrame\n",
    "X_test = test_df['text']\n",
    "\n",
    "# Transform the test set using the same TF-IDF vectorizer\n",
    "X_test_tfidf = tfidf_vectorizer.transform(X_test)\n",
    "\n",
    "# Make predictions on the test set using Naive Bayes\n",
    "test_predictions_nb = nb_model.predict(X_test_tfidf)\n",
    "\n",
    "# Create a submission DataFrame\n",
    "submission_df_nb = pd.DataFrame({'index': test_df['index'], 'lang_id': test_predictions_nb})\n",
    "\n",
    "# Save the submission file for Naive Bayes\n",
    "submission_df_nb.to_csv('submission_nb_with_ngrams.csv', index=False)\n"
   ]
  },
  {
   "cell_type": "code",
   "execution_count": null,
   "metadata": {},
   "outputs": [],
   "source": [
    "from sklearn.feature_extraction.text import TfidfVectorizer\n",
    "from scipy.sparse import hstack\n",
    "from sklearn.model_selection import train_test_split\n",
    "from sklearn.naive_bayes import MultinomialNB\n",
    "import pandas as pd\n",
    "\n",
    "# Assuming you have the 'text' column in your DataFrame\n",
    "X = train_df['text']\n",
    "y = train_df['lang_id']\n",
    "\n",
    "# Split the data into training and validation sets\n",
    "X_train, X_val, y_train, y_val = train_test_split(X, y, test_size=0.2, random_state=42)\n",
    "\n",
    "# Initialize the TF-IDF vectorizer for unigrams and bigrams\n",
    "tfidf_vectorizer = TfidfVectorizer(ngram_range=(1, 2))\n",
    "\n",
    "# Fit and transform the TF-IDF vectorizer on the training set\n",
    "X_train_tfidf = tfidf_vectorizer.fit_transform(X_train)\n",
    "\n",
    "# Transform the validation set using the same TF-IDF vectorizer\n",
    "X_val_tfidf = tfidf_vectorizer.transform(X_val)\n",
    "\n",
    "# Extract the length of the text as a feature\n",
    "X_train_length = X_train.apply(len)\n",
    "X_val_length = X_val.apply(len)\n",
    "\n",
    "# Stack the TF-IDF matrix and the text length feature horizontally\n",
    "X_train_final = hstack([X_train_tfidf, X_train_length.values.reshape(-1, 1)])\n",
    "\n",
    "# Initialize and train the Multinomial Naive Bayes model\n",
    "nb_model = MultinomialNB(alpha=0.1, class_prior=None, fit_prior=True)\n",
    "nb_model.fit(X_train_final, y_train)\n",
    "\n",
    "# Transform the test set using the same TF-IDF vectorizer\n",
    "X_test_tfidf = tfidf_vectorizer.transform(test_df['text'])\n",
    "\n",
    "# Extract the length of the text as a feature for the test set\n",
    "X_test_length = test_df['text'].apply(len)\n",
    "\n",
    "# Stack the TF-IDF matrix and the text length feature horizontally for the test set\n",
    "X_test_final = hstack([X_test_tfidf, X_test_length.values.reshape(-1, 1)])\n",
    "\n",
    "# Make predictions on the test set using Naive Bayes\n",
    "test_predictions_nb = nb_model.predict(X_test_final)\n",
    "\n",
    "# Create a submission DataFrame\n",
    "submission_df_nb = pd.DataFrame({'index': test_df['index'], 'lang_id': test_predictions_nb})\n",
    "\n",
    "# Save the submission file for Naive Bayes\n",
    "submission_df_nb.to_csv('submission_nb_with_features.csv', index=False)\n"
   ]
  },
  {
   "cell_type": "code",
   "execution_count": null,
   "metadata": {},
   "outputs": [],
   "source": [
    "# Transform the test set using the same TF-IDF vectorizer\n",
    "X_test_tfidf_rf = tfidf_vectorizer.transform(test_df['text'])\n",
    "\n",
    "# Make predictions on the test set using Random Forest\n",
    "test_predictions_rf = rf_model.predict(X_test_tfidf_rf)\n",
    "\n",
    "# Create a submission DataFrame\n",
    "submission_df_rf = pd.DataFrame({'index': test_df['index'], 'lang_id': test_predictions_rf})\n",
    "\n",
    "# Save the submission file for Random Forest\n",
    "submission_df_rf.to_csv('submission_rf.csv', index=False)\n"
   ]
  },
  {
   "cell_type": "code",
   "execution_count": null,
   "metadata": {},
   "outputs": [],
   "source": [
    "# Transform the test set using the same TF-IDF vectorizer\n",
    "X_test_tfidf_lr = tfidf_vectorizer.transform(test_df['text'])\n",
    "\n",
    "# Make predictions on the test set using Logistic Regression\n",
    "test_predictions_lr = lr_model.predict(X_test_tfidf_lr)\n",
    "\n",
    "# Create a submission DataFrame\n",
    "submission_df_lr = pd.DataFrame({'index': test_df['index'], 'lang_id': test_predictions_lr})\n",
    "\n",
    "# Save the submission file for Logistic Regression\n",
    "submission_df_lr.to_csv('submission_lr.csv', index=False)\n"
   ]
  }
 ],
 "metadata": {
  "kernelspec": {
   "display_name": "Python 3",
   "language": "python",
   "name": "python3"
  },
  "language_info": {
   "codemirror_mode": {
    "name": "ipython",
    "version": 3
   },
   "file_extension": ".py",
   "mimetype": "text/x-python",
   "name": "python",
   "nbconvert_exporter": "python",
   "pygments_lexer": "ipython3",
   "version": "3.11.7"
  }
 },
 "nbformat": 4,
 "nbformat_minor": 2
}
